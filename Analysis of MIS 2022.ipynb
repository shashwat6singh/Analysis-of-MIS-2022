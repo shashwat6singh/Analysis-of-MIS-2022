{
 "cells": [
  {
   "cell_type": "code",
   "execution_count": null,
   "id": "677e4a55",
   "metadata": {
    "scrolled": true
   },
   "outputs": [],
   "source": [
    "import pandas as pd"
   ]
  },
  {
   "cell_type": "code",
   "execution_count": null,
   "id": "3b0328a5",
   "metadata": {
    "scrolled": true
   },
   "outputs": [],
   "source": [
    "df = pd.read_csv(\"/Users/aksingh/Documents/CEDA Test.csv\")\n",
    "df"
   ]
  },
  {
   "cell_type": "code",
   "execution_count": 3,
   "id": "cb862404",
   "metadata": {
    "scrolled": true
   },
   "outputs": [
    {
     "data": {
      "text/html": [
       "<div>\n",
       "<style scoped>\n",
       "    .dataframe tbody tr th:only-of-type {\n",
       "        vertical-align: middle;\n",
       "    }\n",
       "\n",
       "    .dataframe tbody tr th {\n",
       "        vertical-align: top;\n",
       "    }\n",
       "\n",
       "    .dataframe thead th {\n",
       "        text-align: right;\n",
       "    }\n",
       "</style>\n",
       "<table border=\"1\" class=\"dataframe\">\n",
       "  <thead>\n",
       "    <tr style=\"text-align: right;\">\n",
       "      <th></th>\n",
       "      <th>Garbage Collected</th>\n",
       "      <th>NSS Region</th>\n",
       "      <th>Unnamed: 2</th>\n",
       "      <th>Unnamed: 3</th>\n",
       "      <th>Unnamed: 4</th>\n",
       "      <th>Unnamed: 5</th>\n",
       "    </tr>\n",
       "  </thead>\n",
       "  <tbody>\n",
       "    <tr>\n",
       "      <th>0</th>\n",
       "      <td>4</td>\n",
       "      <td>1</td>\n",
       "      <td>NaN</td>\n",
       "      <td>NaN</td>\n",
       "      <td>NaN</td>\n",
       "      <td>NaN</td>\n",
       "    </tr>\n",
       "    <tr>\n",
       "      <th>1</th>\n",
       "      <td>4</td>\n",
       "      <td>1</td>\n",
       "      <td>NaN</td>\n",
       "      <td>NaN</td>\n",
       "      <td>NaN</td>\n",
       "      <td>NaN</td>\n",
       "    </tr>\n",
       "    <tr>\n",
       "      <th>2</th>\n",
       "      <td>4</td>\n",
       "      <td>1</td>\n",
       "      <td>NaN</td>\n",
       "      <td>NaN</td>\n",
       "      <td>NaN</td>\n",
       "      <td>NaN</td>\n",
       "    </tr>\n",
       "    <tr>\n",
       "      <th>3</th>\n",
       "      <td>1</td>\n",
       "      <td>1</td>\n",
       "      <td>NaN</td>\n",
       "      <td>NaN</td>\n",
       "      <td>NaN</td>\n",
       "      <td>NaN</td>\n",
       "    </tr>\n",
       "    <tr>\n",
       "      <th>4</th>\n",
       "      <td>4</td>\n",
       "      <td>1</td>\n",
       "      <td>NaN</td>\n",
       "      <td>NaN</td>\n",
       "      <td>NaN</td>\n",
       "      <td>NaN</td>\n",
       "    </tr>\n",
       "    <tr>\n",
       "      <th>...</th>\n",
       "      <td>...</td>\n",
       "      <td>...</td>\n",
       "      <td>...</td>\n",
       "      <td>...</td>\n",
       "      <td>...</td>\n",
       "      <td>...</td>\n",
       "    </tr>\n",
       "    <tr>\n",
       "      <th>276404</th>\n",
       "      <td>1</td>\n",
       "      <td>37</td>\n",
       "      <td>NaN</td>\n",
       "      <td>NaN</td>\n",
       "      <td>NaN</td>\n",
       "      <td>NaN</td>\n",
       "    </tr>\n",
       "    <tr>\n",
       "      <th>276405</th>\n",
       "      <td>4</td>\n",
       "      <td>37</td>\n",
       "      <td>NaN</td>\n",
       "      <td>NaN</td>\n",
       "      <td>NaN</td>\n",
       "      <td>NaN</td>\n",
       "    </tr>\n",
       "    <tr>\n",
       "      <th>276406</th>\n",
       "      <td>1</td>\n",
       "      <td>37</td>\n",
       "      <td>NaN</td>\n",
       "      <td>NaN</td>\n",
       "      <td>NaN</td>\n",
       "      <td>NaN</td>\n",
       "    </tr>\n",
       "    <tr>\n",
       "      <th>276407</th>\n",
       "      <td>4</td>\n",
       "      <td>37</td>\n",
       "      <td>NaN</td>\n",
       "      <td>NaN</td>\n",
       "      <td>NaN</td>\n",
       "      <td>NaN</td>\n",
       "    </tr>\n",
       "    <tr>\n",
       "      <th>276408</th>\n",
       "      <td>4</td>\n",
       "      <td>37</td>\n",
       "      <td>NaN</td>\n",
       "      <td>NaN</td>\n",
       "      <td>NaN</td>\n",
       "      <td>NaN</td>\n",
       "    </tr>\n",
       "  </tbody>\n",
       "</table>\n",
       "<p>276409 rows × 6 columns</p>\n",
       "</div>"
      ],
      "text/plain": [
       "        Garbage Collected  NSS Region  Unnamed: 2  Unnamed: 3  Unnamed: 4  \\\n",
       "0                       4           1         NaN         NaN         NaN   \n",
       "1                       4           1         NaN         NaN         NaN   \n",
       "2                       4           1         NaN         NaN         NaN   \n",
       "3                       1           1         NaN         NaN         NaN   \n",
       "4                       4           1         NaN         NaN         NaN   \n",
       "...                   ...         ...         ...         ...         ...   \n",
       "276404                  1          37         NaN         NaN         NaN   \n",
       "276405                  4          37         NaN         NaN         NaN   \n",
       "276406                  1          37         NaN         NaN         NaN   \n",
       "276407                  4          37         NaN         NaN         NaN   \n",
       "276408                  4          37         NaN         NaN         NaN   \n",
       "\n",
       "        Unnamed: 5  \n",
       "0              NaN  \n",
       "1              NaN  \n",
       "2              NaN  \n",
       "3              NaN  \n",
       "4              NaN  \n",
       "...            ...  \n",
       "276404         NaN  \n",
       "276405         NaN  \n",
       "276406         NaN  \n",
       "276407         NaN  \n",
       "276408         NaN  \n",
       "\n",
       "[276409 rows x 6 columns]"
      ]
     },
     "execution_count": 3,
     "metadata": {},
     "output_type": "execute_result"
    }
   ],
   "source": [
    "df['NSS Region'] = df['NSS Region'].astype(str).str[:-1].astype(int)\n",
    "df"
   ]
  },
  {
   "cell_type": "code",
   "execution_count": 30,
   "id": "5107e02c",
   "metadata": {
    "scrolled": true
   },
   "outputs": [
    {
     "data": {
      "text/html": [
       "<div>\n",
       "<style scoped>\n",
       "    .dataframe tbody tr th:only-of-type {\n",
       "        vertical-align: middle;\n",
       "    }\n",
       "\n",
       "    .dataframe tbody tr th {\n",
       "        vertical-align: top;\n",
       "    }\n",
       "\n",
       "    .dataframe thead th {\n",
       "        text-align: right;\n",
       "    }\n",
       "</style>\n",
       "<table border=\"1\" class=\"dataframe\">\n",
       "  <thead>\n",
       "    <tr style=\"text-align: right;\">\n",
       "      <th></th>\n",
       "      <th>Garbage Collected</th>\n",
       "      <th>NSS Region</th>\n",
       "      <th>Unnamed: 2</th>\n",
       "      <th>Unnamed: 3</th>\n",
       "      <th>Unnamed: 4</th>\n",
       "      <th>Unnamed: 5</th>\n",
       "    </tr>\n",
       "  </thead>\n",
       "  <tbody>\n",
       "    <tr>\n",
       "      <th>0</th>\n",
       "      <td>Not Collected</td>\n",
       "      <td>Jammu &amp; Kashmir</td>\n",
       "      <td>NaN</td>\n",
       "      <td>NaN</td>\n",
       "      <td>NaN</td>\n",
       "      <td>NaN</td>\n",
       "    </tr>\n",
       "    <tr>\n",
       "      <th>1</th>\n",
       "      <td>Not Collected</td>\n",
       "      <td>Jammu &amp; Kashmir</td>\n",
       "      <td>NaN</td>\n",
       "      <td>NaN</td>\n",
       "      <td>NaN</td>\n",
       "      <td>NaN</td>\n",
       "    </tr>\n",
       "    <tr>\n",
       "      <th>2</th>\n",
       "      <td>Not Collected</td>\n",
       "      <td>Jammu &amp; Kashmir</td>\n",
       "      <td>NaN</td>\n",
       "      <td>NaN</td>\n",
       "      <td>NaN</td>\n",
       "      <td>NaN</td>\n",
       "    </tr>\n",
       "    <tr>\n",
       "      <th>3</th>\n",
       "      <td>Collected</td>\n",
       "      <td>Jammu &amp; Kashmir</td>\n",
       "      <td>NaN</td>\n",
       "      <td>NaN</td>\n",
       "      <td>NaN</td>\n",
       "      <td>NaN</td>\n",
       "    </tr>\n",
       "    <tr>\n",
       "      <th>4</th>\n",
       "      <td>Not Collected</td>\n",
       "      <td>Jammu &amp; Kashmir</td>\n",
       "      <td>NaN</td>\n",
       "      <td>NaN</td>\n",
       "      <td>NaN</td>\n",
       "      <td>NaN</td>\n",
       "    </tr>\n",
       "    <tr>\n",
       "      <th>...</th>\n",
       "      <td>...</td>\n",
       "      <td>...</td>\n",
       "      <td>...</td>\n",
       "      <td>...</td>\n",
       "      <td>...</td>\n",
       "      <td>...</td>\n",
       "    </tr>\n",
       "    <tr>\n",
       "      <th>276404</th>\n",
       "      <td>Collected</td>\n",
       "      <td>Ladakh</td>\n",
       "      <td>NaN</td>\n",
       "      <td>NaN</td>\n",
       "      <td>NaN</td>\n",
       "      <td>NaN</td>\n",
       "    </tr>\n",
       "    <tr>\n",
       "      <th>276405</th>\n",
       "      <td>Not Collected</td>\n",
       "      <td>Ladakh</td>\n",
       "      <td>NaN</td>\n",
       "      <td>NaN</td>\n",
       "      <td>NaN</td>\n",
       "      <td>NaN</td>\n",
       "    </tr>\n",
       "    <tr>\n",
       "      <th>276406</th>\n",
       "      <td>Collected</td>\n",
       "      <td>Ladakh</td>\n",
       "      <td>NaN</td>\n",
       "      <td>NaN</td>\n",
       "      <td>NaN</td>\n",
       "      <td>NaN</td>\n",
       "    </tr>\n",
       "    <tr>\n",
       "      <th>276407</th>\n",
       "      <td>Not Collected</td>\n",
       "      <td>Ladakh</td>\n",
       "      <td>NaN</td>\n",
       "      <td>NaN</td>\n",
       "      <td>NaN</td>\n",
       "      <td>NaN</td>\n",
       "    </tr>\n",
       "    <tr>\n",
       "      <th>276408</th>\n",
       "      <td>Not Collected</td>\n",
       "      <td>Ladakh</td>\n",
       "      <td>NaN</td>\n",
       "      <td>NaN</td>\n",
       "      <td>NaN</td>\n",
       "      <td>NaN</td>\n",
       "    </tr>\n",
       "  </tbody>\n",
       "</table>\n",
       "<p>276409 rows × 6 columns</p>\n",
       "</div>"
      ],
      "text/plain": [
       "       Garbage Collected       NSS Region  Unnamed: 2  Unnamed: 3  Unnamed: 4  \\\n",
       "0          Not Collected  Jammu & Kashmir         NaN         NaN         NaN   \n",
       "1          Not Collected  Jammu & Kashmir         NaN         NaN         NaN   \n",
       "2          Not Collected  Jammu & Kashmir         NaN         NaN         NaN   \n",
       "3              Collected  Jammu & Kashmir         NaN         NaN         NaN   \n",
       "4          Not Collected  Jammu & Kashmir         NaN         NaN         NaN   \n",
       "...                  ...              ...         ...         ...         ...   \n",
       "276404         Collected           Ladakh         NaN         NaN         NaN   \n",
       "276405     Not Collected           Ladakh         NaN         NaN         NaN   \n",
       "276406         Collected           Ladakh         NaN         NaN         NaN   \n",
       "276407     Not Collected           Ladakh         NaN         NaN         NaN   \n",
       "276408     Not Collected           Ladakh         NaN         NaN         NaN   \n",
       "\n",
       "        Unnamed: 5  \n",
       "0              NaN  \n",
       "1              NaN  \n",
       "2              NaN  \n",
       "3              NaN  \n",
       "4              NaN  \n",
       "...            ...  \n",
       "276404         NaN  \n",
       "276405         NaN  \n",
       "276406         NaN  \n",
       "276407         NaN  \n",
       "276408         NaN  \n",
       "\n",
       "[276409 rows x 6 columns]"
      ]
     },
     "execution_count": 30,
     "metadata": {},
     "output_type": "execute_result"
    }
   ],
   "source": [
    "df['NSS Region'] = df['NSS Region'].astype(str)\n",
    "replacement_dict = {'1' : 'Jammu & Kashmir', '2' : 'Himachal Pradesh', '3' : 'Punjab', '4' : 'Chandigarh', '5':'Uttarakhand', '6' : 'Haryana', '7' : 'Delhi', '8' : 'Rajasthan', '9' : 'Uttar Pradesh', '10' : 'Bihar', '11' : 'Sikkim', '12' : 'Arunachal Pradesh', '13' : 'Nagaland', '14' : 'Manipur', '15' : 'Mizoram', '16' : 'Tripura', '17' : 'Meghalaya', '18' : 'Assam', '19' :'West Bengal', '20' : 'Jharkhand', '21' : 'Odisha', '22' : 'Chattisgarh', '23' : 'Madhya Pradesh', '24' : 'Gujarat', '25' : 'Daman & Diu', '26' : 'Dadra & Nagar Haveli', '27' : 'Maharashta', '28' : 'Andhra Pradesh', '29' : 'Karnataka', '30' : 'Goa', '31' : 'Lakshadweep', '32' : 'Kerela', '33' : 'Tamil Nadu', '34' : 'Puducherry', '35' : 'Andaman & Nicobar', '36' : 'Telangana', '37' : 'Ladakh' }\n",
    "df['NSS Region'] = df['NSS Region'].replace(replacement_dict)\n",
    "df"
   ]
  },
  {
   "cell_type": "code",
   "execution_count": 8,
   "id": "c7d93749",
   "metadata": {
    "scrolled": true
   },
   "outputs": [
    {
     "data": {
      "text/html": [
       "<div>\n",
       "<style scoped>\n",
       "    .dataframe tbody tr th:only-of-type {\n",
       "        vertical-align: middle;\n",
       "    }\n",
       "\n",
       "    .dataframe tbody tr th {\n",
       "        vertical-align: top;\n",
       "    }\n",
       "\n",
       "    .dataframe thead th {\n",
       "        text-align: right;\n",
       "    }\n",
       "</style>\n",
       "<table border=\"1\" class=\"dataframe\">\n",
       "  <thead>\n",
       "    <tr style=\"text-align: right;\">\n",
       "      <th></th>\n",
       "      <th>Garbage Collected</th>\n",
       "      <th>NSS Region</th>\n",
       "      <th>Unnamed: 2</th>\n",
       "      <th>Unnamed: 3</th>\n",
       "      <th>Unnamed: 4</th>\n",
       "      <th>Unnamed: 5</th>\n",
       "    </tr>\n",
       "  </thead>\n",
       "  <tbody>\n",
       "    <tr>\n",
       "      <th>0</th>\n",
       "      <td>Not Collected</td>\n",
       "      <td>Jammu &amp; Kashmir</td>\n",
       "      <td>NaN</td>\n",
       "      <td>NaN</td>\n",
       "      <td>NaN</td>\n",
       "      <td>NaN</td>\n",
       "    </tr>\n",
       "    <tr>\n",
       "      <th>1</th>\n",
       "      <td>Not Collected</td>\n",
       "      <td>Jammu &amp; Kashmir</td>\n",
       "      <td>NaN</td>\n",
       "      <td>NaN</td>\n",
       "      <td>NaN</td>\n",
       "      <td>NaN</td>\n",
       "    </tr>\n",
       "    <tr>\n",
       "      <th>2</th>\n",
       "      <td>Not Collected</td>\n",
       "      <td>Jammu &amp; Kashmir</td>\n",
       "      <td>NaN</td>\n",
       "      <td>NaN</td>\n",
       "      <td>NaN</td>\n",
       "      <td>NaN</td>\n",
       "    </tr>\n",
       "    <tr>\n",
       "      <th>3</th>\n",
       "      <td>Collected</td>\n",
       "      <td>Jammu &amp; Kashmir</td>\n",
       "      <td>NaN</td>\n",
       "      <td>NaN</td>\n",
       "      <td>NaN</td>\n",
       "      <td>NaN</td>\n",
       "    </tr>\n",
       "    <tr>\n",
       "      <th>4</th>\n",
       "      <td>Not Collected</td>\n",
       "      <td>Jammu &amp; Kashmir</td>\n",
       "      <td>NaN</td>\n",
       "      <td>NaN</td>\n",
       "      <td>NaN</td>\n",
       "      <td>NaN</td>\n",
       "    </tr>\n",
       "    <tr>\n",
       "      <th>...</th>\n",
       "      <td>...</td>\n",
       "      <td>...</td>\n",
       "      <td>...</td>\n",
       "      <td>...</td>\n",
       "      <td>...</td>\n",
       "      <td>...</td>\n",
       "    </tr>\n",
       "    <tr>\n",
       "      <th>276404</th>\n",
       "      <td>Collected</td>\n",
       "      <td>Ladakh</td>\n",
       "      <td>NaN</td>\n",
       "      <td>NaN</td>\n",
       "      <td>NaN</td>\n",
       "      <td>NaN</td>\n",
       "    </tr>\n",
       "    <tr>\n",
       "      <th>276405</th>\n",
       "      <td>Not Collected</td>\n",
       "      <td>Ladakh</td>\n",
       "      <td>NaN</td>\n",
       "      <td>NaN</td>\n",
       "      <td>NaN</td>\n",
       "      <td>NaN</td>\n",
       "    </tr>\n",
       "    <tr>\n",
       "      <th>276406</th>\n",
       "      <td>Collected</td>\n",
       "      <td>Ladakh</td>\n",
       "      <td>NaN</td>\n",
       "      <td>NaN</td>\n",
       "      <td>NaN</td>\n",
       "      <td>NaN</td>\n",
       "    </tr>\n",
       "    <tr>\n",
       "      <th>276407</th>\n",
       "      <td>Not Collected</td>\n",
       "      <td>Ladakh</td>\n",
       "      <td>NaN</td>\n",
       "      <td>NaN</td>\n",
       "      <td>NaN</td>\n",
       "      <td>NaN</td>\n",
       "    </tr>\n",
       "    <tr>\n",
       "      <th>276408</th>\n",
       "      <td>Not Collected</td>\n",
       "      <td>Ladakh</td>\n",
       "      <td>NaN</td>\n",
       "      <td>NaN</td>\n",
       "      <td>NaN</td>\n",
       "      <td>NaN</td>\n",
       "    </tr>\n",
       "  </tbody>\n",
       "</table>\n",
       "<p>276409 rows × 6 columns</p>\n",
       "</div>"
      ],
      "text/plain": [
       "       Garbage Collected       NSS Region  Unnamed: 2  Unnamed: 3  Unnamed: 4  \\\n",
       "0          Not Collected  Jammu & Kashmir         NaN         NaN         NaN   \n",
       "1          Not Collected  Jammu & Kashmir         NaN         NaN         NaN   \n",
       "2          Not Collected  Jammu & Kashmir         NaN         NaN         NaN   \n",
       "3              Collected  Jammu & Kashmir         NaN         NaN         NaN   \n",
       "4          Not Collected  Jammu & Kashmir         NaN         NaN         NaN   \n",
       "...                  ...              ...         ...         ...         ...   \n",
       "276404         Collected           Ladakh         NaN         NaN         NaN   \n",
       "276405     Not Collected           Ladakh         NaN         NaN         NaN   \n",
       "276406         Collected           Ladakh         NaN         NaN         NaN   \n",
       "276407     Not Collected           Ladakh         NaN         NaN         NaN   \n",
       "276408     Not Collected           Ladakh         NaN         NaN         NaN   \n",
       "\n",
       "        Unnamed: 5  \n",
       "0              NaN  \n",
       "1              NaN  \n",
       "2              NaN  \n",
       "3              NaN  \n",
       "4              NaN  \n",
       "...            ...  \n",
       "276404         NaN  \n",
       "276405         NaN  \n",
       "276406         NaN  \n",
       "276407         NaN  \n",
       "276408         NaN  \n",
       "\n",
       "[276409 rows x 6 columns]"
      ]
     },
     "execution_count": 8,
     "metadata": {},
     "output_type": "execute_result"
    }
   ],
   "source": [
    "df['Garbage Collected'] = df['Garbage Collected'].astype(str)\n",
    "replacement_dict = {'1' : 'Collected', '2' : 'Collected', '3' : 'Collected', '9' : 'Collected', '4' : 'Not Collected' }\n",
    "df['Garbage Collected'] = df['Garbage Collected'].replace(replacement_dict)\n",
    "df"
   ]
  },
  {
   "cell_type": "code",
   "execution_count": 15,
   "id": "fec25171",
   "metadata": {
    "scrolled": true
   },
   "outputs": [
    {
     "data": {
      "text/plain": [
       "Garbage Collected\n",
       "Not Collected    62.27\n",
       "Collected        37.73\n",
       "Name: proportion, dtype: float64"
      ]
     },
     "execution_count": 15,
     "metadata": {},
     "output_type": "execute_result"
    }
   ],
   "source": [
    "share_of_garbage_Not_collected = 'specific_value'  \n",
    "\n",
    "filtered_df = df[df['NSS Region'] == 'Jammu & Kashmir']\n",
    "\n",
    "percentage = (filtered_df['Garbage Collected'].value_counts(normalize=True) * 100).round(2)\n",
    "\n",
    "percentage\n"
   ]
  },
  {
   "cell_type": "code",
   "execution_count": 16,
   "id": "2058c1a4",
   "metadata": {
    "scrolled": true
   },
   "outputs": [
    {
     "data": {
      "text/plain": [
       "Garbage Collected\n",
       "Not Collected    51.73\n",
       "Collected        48.27\n",
       "Name: proportion, dtype: float64"
      ]
     },
     "execution_count": 16,
     "metadata": {},
     "output_type": "execute_result"
    }
   ],
   "source": [
    "share_of_garbage_Not_collected = 'specific_value'  \n",
    "\n",
    "filtered_df = df[df['NSS Region'] == 'Himachal Pradesh']\n",
    "\n",
    "percentage = (filtered_df['Garbage Collected'].value_counts(normalize=True) * 100).round(2)\n",
    "\n",
    "percentage\n"
   ]
  },
  {
   "cell_type": "code",
   "execution_count": 17,
   "id": "e6ef1712",
   "metadata": {
    "scrolled": true
   },
   "outputs": [
    {
     "data": {
      "text/plain": [
       "Garbage Collected\n",
       "Collected        55.63\n",
       "Not Collected    44.37\n",
       "Name: proportion, dtype: float64"
      ]
     },
     "execution_count": 17,
     "metadata": {},
     "output_type": "execute_result"
    }
   ],
   "source": [
    "share_of_garbage_Not_collected = 'specific_value'  \n",
    "\n",
    "filtered_df = df[df['NSS Region'] == 'Punjab']\n",
    "\n",
    "percentage = (filtered_df['Garbage Collected'].value_counts(normalize=True) * 100).round(2)\n",
    "\n",
    "percentage\n"
   ]
  },
  {
   "cell_type": "code",
   "execution_count": 18,
   "id": "4d7d3106",
   "metadata": {
    "scrolled": true
   },
   "outputs": [
    {
     "data": {
      "text/plain": [
       "Garbage Collected\n",
       "Collected        92.63\n",
       "Not Collected     7.37\n",
       "Name: proportion, dtype: float64"
      ]
     },
     "execution_count": 18,
     "metadata": {},
     "output_type": "execute_result"
    }
   ],
   "source": [
    "share_of_garbage_Not_collected = 'specific_value'  \n",
    "\n",
    "filtered_df = df[df['NSS Region'] == 'Chandigarh']\n",
    "\n",
    "percentage = (filtered_df['Garbage Collected'].value_counts(normalize=True) * 100).round(2)\n",
    "\n",
    "percentage\n"
   ]
  },
  {
   "cell_type": "code",
   "execution_count": 19,
   "id": "0774747a",
   "metadata": {
    "scrolled": true
   },
   "outputs": [
    {
     "data": {
      "text/plain": [
       "Garbage Collected\n",
       "Not Collected    55.97\n",
       "Collected        44.03\n",
       "Name: proportion, dtype: float64"
      ]
     },
     "execution_count": 19,
     "metadata": {},
     "output_type": "execute_result"
    }
   ],
   "source": [
    "share_of_garbage_Not_collected = 'specific_value'  \n",
    "\n",
    "filtered_df = df[df['NSS Region'] == 'Uttarakhand']\n",
    "\n",
    "percentage = (filtered_df['Garbage Collected'].value_counts(normalize=True) * 100).round(2)\n",
    "\n",
    "percentage\n"
   ]
  },
  {
   "cell_type": "code",
   "execution_count": 20,
   "id": "3361deea",
   "metadata": {
    "scrolled": true
   },
   "outputs": [
    {
     "data": {
      "text/plain": [
       "Garbage Collected\n",
       "Collected        59.3\n",
       "Not Collected    40.7\n",
       "Name: proportion, dtype: float64"
      ]
     },
     "execution_count": 20,
     "metadata": {},
     "output_type": "execute_result"
    }
   ],
   "source": [
    "share_of_garbage_Not_collected = 'specific_value'  \n",
    "\n",
    "filtered_df = df[df['NSS Region'] == 'Haryana']\n",
    "\n",
    "percentage = (filtered_df['Garbage Collected'].value_counts(normalize=True) * 100).round(2)\n",
    "\n",
    "percentage\n"
   ]
  },
  {
   "cell_type": "code",
   "execution_count": 21,
   "id": "51c3928a",
   "metadata": {
    "scrolled": true
   },
   "outputs": [
    {
     "data": {
      "text/plain": [
       "Garbage Collected\n",
       "Collected        95.51\n",
       "Not Collected     4.49\n",
       "Name: proportion, dtype: float64"
      ]
     },
     "execution_count": 21,
     "metadata": {},
     "output_type": "execute_result"
    }
   ],
   "source": [
    "share_of_garbage_Not_collected = 'specific_value'  \n",
    "\n",
    "filtered_df = df[df['NSS Region'] == 'Delhi']\n",
    "\n",
    "percentage = (filtered_df['Garbage Collected'].value_counts(normalize=True) * 100).round(2)\n",
    "\n",
    "percentage\n"
   ]
  },
  {
   "cell_type": "code",
   "execution_count": 22,
   "id": "73bdd699",
   "metadata": {
    "scrolled": true
   },
   "outputs": [
    {
     "data": {
      "text/plain": [
       "Garbage Collected\n",
       "Not Collected    57.71\n",
       "Collected        42.29\n",
       "Name: proportion, dtype: float64"
      ]
     },
     "execution_count": 22,
     "metadata": {},
     "output_type": "execute_result"
    }
   ],
   "source": [
    "share_of_garbage_Not_collected = 'specific_value'  \n",
    "\n",
    "filtered_df = df[df['NSS Region'] == 'Rajasthan']\n",
    "\n",
    "percentage = (filtered_df['Garbage Collected'].value_counts(normalize=True) * 100).round(2)\n",
    "\n",
    "percentage\n"
   ]
  },
  {
   "cell_type": "code",
   "execution_count": 23,
   "id": "440e82f0",
   "metadata": {
    "scrolled": true
   },
   "outputs": [
    {
     "data": {
      "text/plain": [
       "Garbage Collected\n",
       "Not Collected    50.0\n",
       "Collected        50.0\n",
       "Name: proportion, dtype: float64"
      ]
     },
     "execution_count": 23,
     "metadata": {},
     "output_type": "execute_result"
    }
   ],
   "source": [
    "share_of_garbage_Not_collected = 'specific_value'  \n",
    "\n",
    "filtered_df = df[df['NSS Region'] == 'Uttar Pradesh']\n",
    "\n",
    "percentage = (filtered_df['Garbage Collected'].value_counts(normalize=True) * 100).round(2)\n",
    "\n",
    "percentage\n"
   ]
  },
  {
   "cell_type": "code",
   "execution_count": 24,
   "id": "a32aba9e",
   "metadata": {
    "scrolled": true
   },
   "outputs": [
    {
     "data": {
      "text/plain": [
       "Garbage Collected\n",
       "Not Collected    69.56\n",
       "Collected        30.44\n",
       "Name: proportion, dtype: float64"
      ]
     },
     "execution_count": 24,
     "metadata": {},
     "output_type": "execute_result"
    }
   ],
   "source": [
    "share_of_garbage_Not_collected = 'specific_value'  \n",
    "\n",
    "filtered_df = df[df['NSS Region'] == 'Bihar']\n",
    "\n",
    "percentage = (filtered_df['Garbage Collected'].value_counts(normalize=True) * 100).round(2)\n",
    "\n",
    "percentage"
   ]
  },
  {
   "cell_type": "code",
   "execution_count": 25,
   "id": "575d2985",
   "metadata": {
    "scrolled": true
   },
   "outputs": [
    {
     "data": {
      "text/plain": [
       "Garbage Collected\n",
       "Collected        66.49\n",
       "Not Collected    33.51\n",
       "Name: proportion, dtype: float64"
      ]
     },
     "execution_count": 25,
     "metadata": {},
     "output_type": "execute_result"
    }
   ],
   "source": [
    "share_of_garbage_Not_collected = 'specific_value'  \n",
    "\n",
    "filtered_df = df[df['NSS Region'] == 'Sikkim']\n",
    "\n",
    "percentage = (filtered_df['Garbage Collected'].value_counts(normalize=True) * 100).round(2)\n",
    "\n",
    "percentage"
   ]
  },
  {
   "cell_type": "code",
   "execution_count": 26,
   "id": "8300da3a",
   "metadata": {
    "scrolled": true
   },
   "outputs": [
    {
     "data": {
      "text/plain": [
       "Garbage Collected\n",
       "Collected        53.75\n",
       "Not Collected    46.25\n",
       "Name: proportion, dtype: float64"
      ]
     },
     "execution_count": 26,
     "metadata": {},
     "output_type": "execute_result"
    }
   ],
   "source": [
    "share_of_garbage_Not_collected = 'specific_value'  \n",
    "\n",
    "filtered_df = df[df['NSS Region'] == 'Arunachal Pradesh']\n",
    "\n",
    "percentage = (filtered_df['Garbage Collected'].value_counts(normalize=True) * 100).round(2)\n",
    "\n",
    "percentage"
   ]
  },
  {
   "cell_type": "code",
   "execution_count": 27,
   "id": "f83cd6b3",
   "metadata": {
    "scrolled": true
   },
   "outputs": [
    {
     "data": {
      "text/plain": [
       "Garbage Collected\n",
       "Collected        53.95\n",
       "Not Collected    46.05\n",
       "Name: proportion, dtype: float64"
      ]
     },
     "execution_count": 27,
     "metadata": {},
     "output_type": "execute_result"
    }
   ],
   "source": [
    "share_of_garbage_Not_collected = 'specific_value'  \n",
    "\n",
    "filtered_df = df[df['NSS Region'] == 'Nagaland']\n",
    "\n",
    "percentage = (filtered_df['Garbage Collected'].value_counts(normalize=True) * 100).round(2)\n",
    "\n",
    "percentage"
   ]
  },
  {
   "cell_type": "code",
   "execution_count": 28,
   "id": "dc6464f0",
   "metadata": {
    "scrolled": true
   },
   "outputs": [
    {
     "data": {
      "text/plain": [
       "Garbage Collected\n",
       "Collected        53.26\n",
       "Not Collected    46.74\n",
       "Name: proportion, dtype: float64"
      ]
     },
     "execution_count": 28,
     "metadata": {},
     "output_type": "execute_result"
    }
   ],
   "source": [
    "share_of_garbage_Not_collected = 'specific_value'  \n",
    "\n",
    "filtered_df = df[df['NSS Region'] == 'Manipur']\n",
    "\n",
    "percentage = (filtered_df['Garbage Collected'].value_counts(normalize=True) * 100).round(2)\n",
    "\n",
    "percentage"
   ]
  },
  {
   "cell_type": "code",
   "execution_count": 29,
   "id": "db0fbb21",
   "metadata": {
    "scrolled": true
   },
   "outputs": [
    {
     "data": {
      "text/plain": [
       "Garbage Collected\n",
       "Collected        87.04\n",
       "Not Collected    12.96\n",
       "Name: proportion, dtype: float64"
      ]
     },
     "execution_count": 29,
     "metadata": {},
     "output_type": "execute_result"
    }
   ],
   "source": [
    "share_of_garbage_Not_collected = 'specific_value'  \n",
    "\n",
    "filtered_df = df[df['NSS Region'] == 'Mizoram']\n",
    "\n",
    "percentage = (filtered_df['Garbage Collected'].value_counts(normalize=True) * 100).round(2)\n",
    "\n",
    "percentage"
   ]
  },
  {
   "cell_type": "code",
   "execution_count": 31,
   "id": "9cb855fe",
   "metadata": {
    "scrolled": true
   },
   "outputs": [
    {
     "data": {
      "text/plain": [
       "Garbage Collected\n",
       "Not Collected    76.92\n",
       "Collected        23.08\n",
       "Name: proportion, dtype: float64"
      ]
     },
     "execution_count": 31,
     "metadata": {},
     "output_type": "execute_result"
    }
   ],
   "source": [
    "share_of_garbage_Not_collected = 'specific_value'  \n",
    "\n",
    "filtered_df = df[df['NSS Region'] == 'Tripura']\n",
    "\n",
    "percentage = (filtered_df['Garbage Collected'].value_counts(normalize=True) * 100).round(2)\n",
    "\n",
    "percentage"
   ]
  },
  {
   "cell_type": "code",
   "execution_count": 32,
   "id": "e3dcffcf",
   "metadata": {
    "scrolled": true
   },
   "outputs": [
    {
     "data": {
      "text/plain": [
       "Garbage Collected\n",
       "Collected        51.4\n",
       "Not Collected    48.6\n",
       "Name: proportion, dtype: float64"
      ]
     },
     "execution_count": 32,
     "metadata": {},
     "output_type": "execute_result"
    }
   ],
   "source": [
    "share_of_garbage_Not_collected = 'specific_value'  \n",
    "\n",
    "filtered_df = df[df['NSS Region'] == 'Meghalaya']\n",
    "\n",
    "percentage = (filtered_df['Garbage Collected'].value_counts(normalize=True) * 100).round(2)\n",
    "\n",
    "percentage"
   ]
  },
  {
   "cell_type": "code",
   "execution_count": 33,
   "id": "8a13513d",
   "metadata": {
    "scrolled": true
   },
   "outputs": [
    {
     "data": {
      "text/plain": [
       "Garbage Collected\n",
       "Not Collected    67.64\n",
       "Collected        32.36\n",
       "Name: proportion, dtype: float64"
      ]
     },
     "execution_count": 33,
     "metadata": {},
     "output_type": "execute_result"
    }
   ],
   "source": [
    "share_of_garbage_Not_collected = 'specific_value'  \n",
    "\n",
    "filtered_df = df[df['NSS Region'] == 'Assam']\n",
    "\n",
    "percentage = (filtered_df['Garbage Collected'].value_counts(normalize=True) * 100).round(2)\n",
    "\n",
    "percentage"
   ]
  },
  {
   "cell_type": "code",
   "execution_count": 34,
   "id": "d9012dc2",
   "metadata": {
    "scrolled": true
   },
   "outputs": [
    {
     "data": {
      "text/plain": [
       "Garbage Collected\n",
       "Not Collected    68.43\n",
       "Collected        31.57\n",
       "Name: proportion, dtype: float64"
      ]
     },
     "execution_count": 34,
     "metadata": {},
     "output_type": "execute_result"
    }
   ],
   "source": [
    "share_of_garbage_Not_collected = 'specific_value'  \n",
    "\n",
    "filtered_df = df[df['NSS Region'] == 'West Bengal']\n",
    "\n",
    "percentage = (filtered_df['Garbage Collected'].value_counts(normalize=True) * 100).round(2)\n",
    "\n",
    "percentage"
   ]
  },
  {
   "cell_type": "code",
   "execution_count": 35,
   "id": "490d18a9",
   "metadata": {
    "scrolled": true
   },
   "outputs": [
    {
     "data": {
      "text/plain": [
       "Garbage Collected\n",
       "Not Collected    70.34\n",
       "Collected        29.66\n",
       "Name: proportion, dtype: float64"
      ]
     },
     "execution_count": 35,
     "metadata": {},
     "output_type": "execute_result"
    }
   ],
   "source": [
    "share_of_garbage_Not_collected = 'specific_value'  \n",
    "\n",
    "filtered_df = df[df['NSS Region'] == 'Jharkhand']\n",
    "\n",
    "percentage = (filtered_df['Garbage Collected'].value_counts(normalize=True) * 100).round(2)\n",
    "\n",
    "percentage"
   ]
  },
  {
   "cell_type": "code",
   "execution_count": 36,
   "id": "8c878ccf",
   "metadata": {
    "scrolled": true
   },
   "outputs": [
    {
     "data": {
      "text/plain": [
       "Garbage Collected\n",
       "Not Collected    72.18\n",
       "Collected        27.82\n",
       "Name: proportion, dtype: float64"
      ]
     },
     "execution_count": 36,
     "metadata": {},
     "output_type": "execute_result"
    }
   ],
   "source": [
    "share_of_garbage_Not_collected = 'specific_value'  \n",
    "\n",
    "filtered_df = df[df['NSS Region'] == 'Odisha']\n",
    "\n",
    "percentage = (filtered_df['Garbage Collected'].value_counts(normalize=True) * 100).round(2)\n",
    "\n",
    "percentage"
   ]
  },
  {
   "cell_type": "code",
   "execution_count": 37,
   "id": "5b01ae4e",
   "metadata": {
    "scrolled": true
   },
   "outputs": [
    {
     "data": {
      "text/plain": [
       "Garbage Collected\n",
       "Collected        56.19\n",
       "Not Collected    43.81\n",
       "Name: proportion, dtype: float64"
      ]
     },
     "execution_count": 37,
     "metadata": {},
     "output_type": "execute_result"
    }
   ],
   "source": [
    "share_of_garbage_Not_collected = 'specific_value'  \n",
    "\n",
    "filtered_df = df[df['NSS Region'] == 'Chattisgarh']\n",
    "\n",
    "percentage = (filtered_df['Garbage Collected'].value_counts(normalize=True) * 100).round(2)\n",
    "\n",
    "percentage"
   ]
  },
  {
   "cell_type": "code",
   "execution_count": 38,
   "id": "2b2ead4f",
   "metadata": {
    "scrolled": true
   },
   "outputs": [
    {
     "data": {
      "text/plain": [
       "Garbage Collected\n",
       "Not Collected    55.03\n",
       "Collected        44.97\n",
       "Name: proportion, dtype: float64"
      ]
     },
     "execution_count": 38,
     "metadata": {},
     "output_type": "execute_result"
    }
   ],
   "source": [
    "share_of_garbage_Not_collected = 'specific_value'  \n",
    "\n",
    "filtered_df = df[df['NSS Region'] == 'Madhya Pradesh']\n",
    "\n",
    "percentage = (filtered_df['Garbage Collected'].value_counts(normalize=True) * 100).round(2)\n",
    "\n",
    "percentage"
   ]
  },
  {
   "cell_type": "code",
   "execution_count": 39,
   "id": "b43b9a13",
   "metadata": {
    "scrolled": true
   },
   "outputs": [
    {
     "data": {
      "text/plain": [
       "Garbage Collected\n",
       "Collected        55.92\n",
       "Not Collected    44.08\n",
       "Name: proportion, dtype: float64"
      ]
     },
     "execution_count": 39,
     "metadata": {},
     "output_type": "execute_result"
    }
   ],
   "source": [
    "share_of_garbage_Not_collected = 'specific_value'  \n",
    "\n",
    "filtered_df = df[df['NSS Region'] == 'Gujarat']\n",
    "\n",
    "percentage = (filtered_df['Garbage Collected'].value_counts(normalize=True) * 100).round(2)\n",
    "\n",
    "percentage"
   ]
  },
  {
   "cell_type": "code",
   "execution_count": 40,
   "id": "362a930f",
   "metadata": {
    "scrolled": true
   },
   "outputs": [
    {
     "data": {
      "text/plain": [
       "Garbage Collected\n",
       "Collected        93.91\n",
       "Not Collected     6.09\n",
       "Name: proportion, dtype: float64"
      ]
     },
     "execution_count": 40,
     "metadata": {},
     "output_type": "execute_result"
    }
   ],
   "source": [
    "share_of_garbage_Not_collected = 'specific_value'  \n",
    "\n",
    "filtered_df = df[df['NSS Region'] == 'Daman & Diu']\n",
    "\n",
    "percentage = (filtered_df['Garbage Collected'].value_counts(normalize=True) * 100).round(2)\n",
    "\n",
    "percentage"
   ]
  },
  {
   "cell_type": "code",
   "execution_count": 41,
   "id": "975ca38a",
   "metadata": {
    "scrolled": true
   },
   "outputs": [
    {
     "data": {
      "text/plain": [
       "Garbage Collected\n",
       "Collected        83.33\n",
       "Not Collected    16.67\n",
       "Name: proportion, dtype: float64"
      ]
     },
     "execution_count": 41,
     "metadata": {},
     "output_type": "execute_result"
    }
   ],
   "source": [
    "share_of_garbage_Not_collected = 'specific_value'  \n",
    "\n",
    "filtered_df = df[df['NSS Region'] == 'Dadra & Nagar Haveli']\n",
    "\n",
    "percentage = (filtered_df['Garbage Collected'].value_counts(normalize=True) * 100).round(2)\n",
    "\n",
    "percentage"
   ]
  },
  {
   "cell_type": "code",
   "execution_count": 43,
   "id": "1c666923",
   "metadata": {
    "scrolled": true
   },
   "outputs": [
    {
     "data": {
      "text/plain": [
       "Garbage Collected\n",
       "Collected        62.92\n",
       "Not Collected    37.08\n",
       "Name: proportion, dtype: float64"
      ]
     },
     "execution_count": 43,
     "metadata": {},
     "output_type": "execute_result"
    }
   ],
   "source": [
    "share_of_garbage_Not_collected = 'specific_value'  \n",
    "\n",
    "filtered_df = df[df['NSS Region'] == 'Maharashta']\n",
    "\n",
    "percentage = (filtered_df['Garbage Collected'].value_counts(normalize=True) * 100).round(2)\n",
    "\n",
    "percentage"
   ]
  },
  {
   "cell_type": "code",
   "execution_count": 44,
   "id": "f73e9aec",
   "metadata": {
    "scrolled": true
   },
   "outputs": [
    {
     "data": {
      "text/plain": [
       "Garbage Collected\n",
       "Collected        64.91\n",
       "Not Collected    35.09\n",
       "Name: proportion, dtype: float64"
      ]
     },
     "execution_count": 44,
     "metadata": {},
     "output_type": "execute_result"
    }
   ],
   "source": [
    "share_of_garbage_Not_collected = 'specific_value'  \n",
    "\n",
    "filtered_df = df[df['NSS Region'] == 'Andhra Pradesh']\n",
    "\n",
    "percentage = (filtered_df['Garbage Collected'].value_counts(normalize=True) * 100).round(2)\n",
    "\n",
    "percentage"
   ]
  },
  {
   "cell_type": "code",
   "execution_count": 45,
   "id": "10c68456",
   "metadata": {
    "scrolled": true
   },
   "outputs": [
    {
     "data": {
      "text/plain": [
       "Garbage Collected\n",
       "Collected        61.58\n",
       "Not Collected    38.42\n",
       "Name: proportion, dtype: float64"
      ]
     },
     "execution_count": 45,
     "metadata": {},
     "output_type": "execute_result"
    }
   ],
   "source": [
    "share_of_garbage_Not_collected = 'specific_value'  \n",
    "\n",
    "filtered_df = df[df['NSS Region'] == 'Karnataka']\n",
    "\n",
    "percentage = (filtered_df['Garbage Collected'].value_counts(normalize=True) * 100).round(2)\n",
    "\n",
    "percentage"
   ]
  },
  {
   "cell_type": "code",
   "execution_count": 46,
   "id": "d601297f",
   "metadata": {
    "scrolled": true
   },
   "outputs": [
    {
     "data": {
      "text/plain": [
       "Garbage Collected\n",
       "Collected        87.81\n",
       "Not Collected    12.19\n",
       "Name: proportion, dtype: float64"
      ]
     },
     "execution_count": 46,
     "metadata": {},
     "output_type": "execute_result"
    }
   ],
   "source": [
    "share_of_garbage_Not_collected = 'specific_value'  \n",
    "\n",
    "filtered_df = df[df['NSS Region'] == 'Goa']\n",
    "\n",
    "percentage = (filtered_df['Garbage Collected'].value_counts(normalize=True) * 100).round(2)\n",
    "\n",
    "percentage"
   ]
  },
  {
   "cell_type": "code",
   "execution_count": 47,
   "id": "9fb1e1e8",
   "metadata": {
    "scrolled": true
   },
   "outputs": [
    {
     "data": {
      "text/plain": [
       "Garbage Collected\n",
       "Collected        52.57\n",
       "Not Collected    47.43\n",
       "Name: proportion, dtype: float64"
      ]
     },
     "execution_count": 47,
     "metadata": {},
     "output_type": "execute_result"
    }
   ],
   "source": [
    "share_of_garbage_Not_collected = 'specific_value'  \n",
    "\n",
    "filtered_df = df[df['NSS Region'] == 'Lakshadweep']\n",
    "\n",
    "percentage = (filtered_df['Garbage Collected'].value_counts(normalize=True) * 100).round(2)\n",
    "\n",
    "percentage"
   ]
  },
  {
   "cell_type": "code",
   "execution_count": 48,
   "id": "be9d29ee",
   "metadata": {
    "scrolled": true
   },
   "outputs": [
    {
     "data": {
      "text/plain": [
       "Garbage Collected\n",
       "Not Collected    65.89\n",
       "Collected        34.11\n",
       "Name: proportion, dtype: float64"
      ]
     },
     "execution_count": 48,
     "metadata": {},
     "output_type": "execute_result"
    }
   ],
   "source": [
    "share_of_garbage_Not_collected = 'specific_value'  \n",
    "\n",
    "filtered_df = df[df['NSS Region'] == 'Kerela']\n",
    "\n",
    "percentage = (filtered_df['Garbage Collected'].value_counts(normalize=True) * 100).round(2)\n",
    "\n",
    "percentage"
   ]
  },
  {
   "cell_type": "code",
   "execution_count": 49,
   "id": "24c7052d",
   "metadata": {
    "scrolled": true
   },
   "outputs": [
    {
     "data": {
      "text/plain": [
       "Garbage Collected\n",
       "Collected        90.43\n",
       "Not Collected     9.57\n",
       "Name: proportion, dtype: float64"
      ]
     },
     "execution_count": 49,
     "metadata": {},
     "output_type": "execute_result"
    }
   ],
   "source": [
    "share_of_garbage_Not_collected = 'specific_value'  \n",
    "\n",
    "filtered_df = df[df['NSS Region'] == 'Tamil Nadu']\n",
    "\n",
    "percentage = (filtered_df['Garbage Collected'].value_counts(normalize=True) * 100).round(2)\n",
    "\n",
    "percentage"
   ]
  },
  {
   "cell_type": "code",
   "execution_count": 50,
   "id": "a56e3996",
   "metadata": {
    "scrolled": true
   },
   "outputs": [
    {
     "data": {
      "text/plain": [
       "Garbage Collected\n",
       "Collected        78.93\n",
       "Not Collected    21.07\n",
       "Name: proportion, dtype: float64"
      ]
     },
     "execution_count": 50,
     "metadata": {},
     "output_type": "execute_result"
    }
   ],
   "source": [
    "share_of_garbage_Not_collected = 'specific_value'  \n",
    "\n",
    "filtered_df = df[df['NSS Region'] == 'Puducherry']\n",
    "\n",
    "percentage = (filtered_df['Garbage Collected'].value_counts(normalize=True) * 100).round(2)\n",
    "\n",
    "percentage"
   ]
  },
  {
   "cell_type": "code",
   "execution_count": 51,
   "id": "975c2099",
   "metadata": {
    "scrolled": true
   },
   "outputs": [
    {
     "data": {
      "text/plain": [
       "Garbage Collected\n",
       "Collected        50.17\n",
       "Not Collected    49.83\n",
       "Name: proportion, dtype: float64"
      ]
     },
     "execution_count": 51,
     "metadata": {},
     "output_type": "execute_result"
    }
   ],
   "source": [
    "share_of_garbage_Not_collected = 'specific_value'  \n",
    "\n",
    "filtered_df = df[df['NSS Region'] == 'Andaman & Nicobar']\n",
    "\n",
    "percentage = (filtered_df['Garbage Collected'].value_counts(normalize=True) * 100).round(2)\n",
    "\n",
    "percentage"
   ]
  },
  {
   "cell_type": "code",
   "execution_count": 52,
   "id": "65bac0f3",
   "metadata": {
    "scrolled": true
   },
   "outputs": [
    {
     "data": {
      "text/plain": [
       "Garbage Collected\n",
       "Collected        87.72\n",
       "Not Collected    12.28\n",
       "Name: proportion, dtype: float64"
      ]
     },
     "execution_count": 52,
     "metadata": {},
     "output_type": "execute_result"
    }
   ],
   "source": [
    "share_of_garbage_Not_collected = 'specific_value'  \n",
    "\n",
    "filtered_df = df[df['NSS Region'] == 'Telangana']\n",
    "\n",
    "percentage = (filtered_df['Garbage Collected'].value_counts(normalize=True) * 100).round(2)\n",
    "\n",
    "percentage"
   ]
  },
  {
   "cell_type": "code",
   "execution_count": 53,
   "id": "44742fc8",
   "metadata": {
    "scrolled": true
   },
   "outputs": [
    {
     "data": {
      "text/plain": [
       "Garbage Collected\n",
       "Collected        50.21\n",
       "Not Collected    49.79\n",
       "Name: proportion, dtype: float64"
      ]
     },
     "execution_count": 53,
     "metadata": {},
     "output_type": "execute_result"
    }
   ],
   "source": [
    "share_of_garbage_Not_collected = 'specific_value'  \n",
    "\n",
    "filtered_df = df[df['NSS Region'] == 'Ladakh']\n",
    "\n",
    "percentage = (filtered_df['Garbage Collected'].value_counts(normalize=True) * 100).round(2)\n",
    "\n",
    "percentage"
   ]
  },
  {
   "cell_type": "code",
   "execution_count": 82,
   "id": "eac08f23",
   "metadata": {
    "scrolled": true
   },
   "outputs": [],
   "source": [
    "import matplotlib.pyplot as plt"
   ]
  },
  {
   "cell_type": "code",
   "execution_count": 56,
   "id": "22ace0ca",
   "metadata": {
    "scrolled": true
   },
   "outputs": [
    {
     "data": {
      "text/html": [
       "<div>\n",
       "<style scoped>\n",
       "    .dataframe tbody tr th:only-of-type {\n",
       "        vertical-align: middle;\n",
       "    }\n",
       "\n",
       "    .dataframe tbody tr th {\n",
       "        vertical-align: top;\n",
       "    }\n",
       "\n",
       "    .dataframe thead th {\n",
       "        text-align: right;\n",
       "    }\n",
       "</style>\n",
       "<table border=\"1\" class=\"dataframe\">\n",
       "  <thead>\n",
       "    <tr style=\"text-align: right;\">\n",
       "      <th></th>\n",
       "      <th>States</th>\n",
       "      <th>Share of households that have no arrangement for disposing of garbage in each state of India (in Percentage)</th>\n",
       "      <th>Unnamed: 2</th>\n",
       "      <th>Unnamed: 3</th>\n",
       "      <th>Unnamed: 4</th>\n",
       "      <th>Unnamed: 5</th>\n",
       "    </tr>\n",
       "  </thead>\n",
       "  <tbody>\n",
       "    <tr>\n",
       "      <th>0</th>\n",
       "      <td>Jammu &amp; Kashmir</td>\n",
       "      <td>62.27</td>\n",
       "      <td>NaN</td>\n",
       "      <td>NaN</td>\n",
       "      <td>NaN</td>\n",
       "      <td>NaN</td>\n",
       "    </tr>\n",
       "    <tr>\n",
       "      <th>1</th>\n",
       "      <td>Himachal Pradesh</td>\n",
       "      <td>51.23</td>\n",
       "      <td>NaN</td>\n",
       "      <td>NaN</td>\n",
       "      <td>NaN</td>\n",
       "      <td>NaN</td>\n",
       "    </tr>\n",
       "    <tr>\n",
       "      <th>2</th>\n",
       "      <td>Punjab</td>\n",
       "      <td>44.37</td>\n",
       "      <td>NaN</td>\n",
       "      <td>NaN</td>\n",
       "      <td>NaN</td>\n",
       "      <td>NaN</td>\n",
       "    </tr>\n",
       "    <tr>\n",
       "      <th>3</th>\n",
       "      <td>Chandigarh</td>\n",
       "      <td>7.37</td>\n",
       "      <td>NaN</td>\n",
       "      <td>NaN</td>\n",
       "      <td>NaN</td>\n",
       "      <td>NaN</td>\n",
       "    </tr>\n",
       "    <tr>\n",
       "      <th>4</th>\n",
       "      <td>Uttarakhand</td>\n",
       "      <td>55.97</td>\n",
       "      <td>NaN</td>\n",
       "      <td>NaN</td>\n",
       "      <td>NaN</td>\n",
       "      <td>NaN</td>\n",
       "    </tr>\n",
       "    <tr>\n",
       "      <th>5</th>\n",
       "      <td>Haryana</td>\n",
       "      <td>40.70</td>\n",
       "      <td>NaN</td>\n",
       "      <td>NaN</td>\n",
       "      <td>NaN</td>\n",
       "      <td>NaN</td>\n",
       "    </tr>\n",
       "    <tr>\n",
       "      <th>6</th>\n",
       "      <td>Delhi</td>\n",
       "      <td>4.49</td>\n",
       "      <td>NaN</td>\n",
       "      <td>NaN</td>\n",
       "      <td>NaN</td>\n",
       "      <td>NaN</td>\n",
       "    </tr>\n",
       "    <tr>\n",
       "      <th>7</th>\n",
       "      <td>Rajasthan</td>\n",
       "      <td>57.71</td>\n",
       "      <td>NaN</td>\n",
       "      <td>NaN</td>\n",
       "      <td>NaN</td>\n",
       "      <td>NaN</td>\n",
       "    </tr>\n",
       "    <tr>\n",
       "      <th>8</th>\n",
       "      <td>Uttar Pradesh</td>\n",
       "      <td>50.00</td>\n",
       "      <td>NaN</td>\n",
       "      <td>NaN</td>\n",
       "      <td>NaN</td>\n",
       "      <td>NaN</td>\n",
       "    </tr>\n",
       "    <tr>\n",
       "      <th>9</th>\n",
       "      <td>Bihar</td>\n",
       "      <td>69.56</td>\n",
       "      <td>NaN</td>\n",
       "      <td>NaN</td>\n",
       "      <td>NaN</td>\n",
       "      <td>NaN</td>\n",
       "    </tr>\n",
       "    <tr>\n",
       "      <th>10</th>\n",
       "      <td>Sikkim</td>\n",
       "      <td>33.51</td>\n",
       "      <td>NaN</td>\n",
       "      <td>NaN</td>\n",
       "      <td>NaN</td>\n",
       "      <td>NaN</td>\n",
       "    </tr>\n",
       "    <tr>\n",
       "      <th>11</th>\n",
       "      <td>Arunachal Pradesh</td>\n",
       "      <td>46.25</td>\n",
       "      <td>NaN</td>\n",
       "      <td>NaN</td>\n",
       "      <td>NaN</td>\n",
       "      <td>NaN</td>\n",
       "    </tr>\n",
       "    <tr>\n",
       "      <th>12</th>\n",
       "      <td>Nagaland</td>\n",
       "      <td>46.05</td>\n",
       "      <td>NaN</td>\n",
       "      <td>NaN</td>\n",
       "      <td>NaN</td>\n",
       "      <td>NaN</td>\n",
       "    </tr>\n",
       "    <tr>\n",
       "      <th>13</th>\n",
       "      <td>Manipur</td>\n",
       "      <td>46.74</td>\n",
       "      <td>NaN</td>\n",
       "      <td>NaN</td>\n",
       "      <td>NaN</td>\n",
       "      <td>NaN</td>\n",
       "    </tr>\n",
       "    <tr>\n",
       "      <th>14</th>\n",
       "      <td>Mizoram</td>\n",
       "      <td>12.96</td>\n",
       "      <td>NaN</td>\n",
       "      <td>NaN</td>\n",
       "      <td>NaN</td>\n",
       "      <td>NaN</td>\n",
       "    </tr>\n",
       "    <tr>\n",
       "      <th>15</th>\n",
       "      <td>Tripura</td>\n",
       "      <td>76.92</td>\n",
       "      <td>NaN</td>\n",
       "      <td>NaN</td>\n",
       "      <td>NaN</td>\n",
       "      <td>NaN</td>\n",
       "    </tr>\n",
       "    <tr>\n",
       "      <th>16</th>\n",
       "      <td>Meghalaya</td>\n",
       "      <td>48.60</td>\n",
       "      <td>NaN</td>\n",
       "      <td>NaN</td>\n",
       "      <td>NaN</td>\n",
       "      <td>NaN</td>\n",
       "    </tr>\n",
       "    <tr>\n",
       "      <th>17</th>\n",
       "      <td>Assam</td>\n",
       "      <td>67.64</td>\n",
       "      <td>NaN</td>\n",
       "      <td>NaN</td>\n",
       "      <td>NaN</td>\n",
       "      <td>NaN</td>\n",
       "    </tr>\n",
       "    <tr>\n",
       "      <th>18</th>\n",
       "      <td>West Bengal</td>\n",
       "      <td>68.43</td>\n",
       "      <td>NaN</td>\n",
       "      <td>NaN</td>\n",
       "      <td>NaN</td>\n",
       "      <td>NaN</td>\n",
       "    </tr>\n",
       "    <tr>\n",
       "      <th>19</th>\n",
       "      <td>Jharkhand</td>\n",
       "      <td>70.34</td>\n",
       "      <td>NaN</td>\n",
       "      <td>NaN</td>\n",
       "      <td>NaN</td>\n",
       "      <td>NaN</td>\n",
       "    </tr>\n",
       "    <tr>\n",
       "      <th>20</th>\n",
       "      <td>Odisha</td>\n",
       "      <td>72.18</td>\n",
       "      <td>NaN</td>\n",
       "      <td>NaN</td>\n",
       "      <td>NaN</td>\n",
       "      <td>NaN</td>\n",
       "    </tr>\n",
       "    <tr>\n",
       "      <th>21</th>\n",
       "      <td>Chattisgarh</td>\n",
       "      <td>43.81</td>\n",
       "      <td>NaN</td>\n",
       "      <td>NaN</td>\n",
       "      <td>NaN</td>\n",
       "      <td>NaN</td>\n",
       "    </tr>\n",
       "    <tr>\n",
       "      <th>22</th>\n",
       "      <td>Madhya Pradesh</td>\n",
       "      <td>55.03</td>\n",
       "      <td>NaN</td>\n",
       "      <td>NaN</td>\n",
       "      <td>NaN</td>\n",
       "      <td>NaN</td>\n",
       "    </tr>\n",
       "    <tr>\n",
       "      <th>23</th>\n",
       "      <td>Gujarat</td>\n",
       "      <td>44.08</td>\n",
       "      <td>NaN</td>\n",
       "      <td>NaN</td>\n",
       "      <td>NaN</td>\n",
       "      <td>NaN</td>\n",
       "    </tr>\n",
       "    <tr>\n",
       "      <th>24</th>\n",
       "      <td>Daman &amp; Diu</td>\n",
       "      <td>6.09</td>\n",
       "      <td>NaN</td>\n",
       "      <td>NaN</td>\n",
       "      <td>NaN</td>\n",
       "      <td>NaN</td>\n",
       "    </tr>\n",
       "    <tr>\n",
       "      <th>25</th>\n",
       "      <td>Dadra &amp; Nagar Haveli</td>\n",
       "      <td>16.67</td>\n",
       "      <td>NaN</td>\n",
       "      <td>NaN</td>\n",
       "      <td>NaN</td>\n",
       "      <td>NaN</td>\n",
       "    </tr>\n",
       "    <tr>\n",
       "      <th>26</th>\n",
       "      <td>Maharashtra</td>\n",
       "      <td>37.08</td>\n",
       "      <td>NaN</td>\n",
       "      <td>NaN</td>\n",
       "      <td>NaN</td>\n",
       "      <td>NaN</td>\n",
       "    </tr>\n",
       "    <tr>\n",
       "      <th>27</th>\n",
       "      <td>Andhra Pradesh</td>\n",
       "      <td>35.09</td>\n",
       "      <td>NaN</td>\n",
       "      <td>NaN</td>\n",
       "      <td>NaN</td>\n",
       "      <td>NaN</td>\n",
       "    </tr>\n",
       "    <tr>\n",
       "      <th>28</th>\n",
       "      <td>Karnataka</td>\n",
       "      <td>38.42</td>\n",
       "      <td>NaN</td>\n",
       "      <td>NaN</td>\n",
       "      <td>NaN</td>\n",
       "      <td>NaN</td>\n",
       "    </tr>\n",
       "    <tr>\n",
       "      <th>29</th>\n",
       "      <td>Goa</td>\n",
       "      <td>12.19</td>\n",
       "      <td>NaN</td>\n",
       "      <td>NaN</td>\n",
       "      <td>NaN</td>\n",
       "      <td>NaN</td>\n",
       "    </tr>\n",
       "    <tr>\n",
       "      <th>30</th>\n",
       "      <td>Lakshadweep</td>\n",
       "      <td>47.43</td>\n",
       "      <td>NaN</td>\n",
       "      <td>NaN</td>\n",
       "      <td>NaN</td>\n",
       "      <td>NaN</td>\n",
       "    </tr>\n",
       "    <tr>\n",
       "      <th>31</th>\n",
       "      <td>Kerela</td>\n",
       "      <td>65.89</td>\n",
       "      <td>NaN</td>\n",
       "      <td>NaN</td>\n",
       "      <td>NaN</td>\n",
       "      <td>NaN</td>\n",
       "    </tr>\n",
       "    <tr>\n",
       "      <th>32</th>\n",
       "      <td>Tamil Nadu</td>\n",
       "      <td>9.57</td>\n",
       "      <td>NaN</td>\n",
       "      <td>NaN</td>\n",
       "      <td>NaN</td>\n",
       "      <td>NaN</td>\n",
       "    </tr>\n",
       "    <tr>\n",
       "      <th>33</th>\n",
       "      <td>Puducherry</td>\n",
       "      <td>21.07</td>\n",
       "      <td>NaN</td>\n",
       "      <td>NaN</td>\n",
       "      <td>NaN</td>\n",
       "      <td>NaN</td>\n",
       "    </tr>\n",
       "    <tr>\n",
       "      <th>34</th>\n",
       "      <td>Andaman &amp; Nicobar</td>\n",
       "      <td>49.83</td>\n",
       "      <td>NaN</td>\n",
       "      <td>NaN</td>\n",
       "      <td>NaN</td>\n",
       "      <td>NaN</td>\n",
       "    </tr>\n",
       "    <tr>\n",
       "      <th>35</th>\n",
       "      <td>Telangana</td>\n",
       "      <td>12.28</td>\n",
       "      <td>NaN</td>\n",
       "      <td>NaN</td>\n",
       "      <td>NaN</td>\n",
       "      <td>NaN</td>\n",
       "    </tr>\n",
       "    <tr>\n",
       "      <th>36</th>\n",
       "      <td>Ladakh</td>\n",
       "      <td>49.79</td>\n",
       "      <td>NaN</td>\n",
       "      <td>NaN</td>\n",
       "      <td>NaN</td>\n",
       "      <td>NaN</td>\n",
       "    </tr>\n",
       "  </tbody>\n",
       "</table>\n",
       "</div>"
      ],
      "text/plain": [
       "                  States  \\\n",
       "0        Jammu & Kashmir   \n",
       "1       Himachal Pradesh   \n",
       "2                 Punjab   \n",
       "3             Chandigarh   \n",
       "4            Uttarakhand   \n",
       "5                Haryana   \n",
       "6                  Delhi   \n",
       "7              Rajasthan   \n",
       "8          Uttar Pradesh   \n",
       "9                  Bihar   \n",
       "10                Sikkim   \n",
       "11     Arunachal Pradesh   \n",
       "12              Nagaland   \n",
       "13               Manipur   \n",
       "14               Mizoram   \n",
       "15               Tripura   \n",
       "16             Meghalaya   \n",
       "17                 Assam   \n",
       "18           West Bengal   \n",
       "19             Jharkhand   \n",
       "20                Odisha   \n",
       "21           Chattisgarh   \n",
       "22        Madhya Pradesh   \n",
       "23               Gujarat   \n",
       "24           Daman & Diu   \n",
       "25  Dadra & Nagar Haveli   \n",
       "26           Maharashtra   \n",
       "27        Andhra Pradesh   \n",
       "28            Karnataka    \n",
       "29                   Goa   \n",
       "30           Lakshadweep   \n",
       "31                Kerela   \n",
       "32            Tamil Nadu   \n",
       "33            Puducherry   \n",
       "34     Andaman & Nicobar   \n",
       "35             Telangana   \n",
       "36                Ladakh   \n",
       "\n",
       "    Share of households that have no arrangement for disposing of garbage in each state of India (in Percentage)  \\\n",
       "0                                               62.27                                                              \n",
       "1                                               51.23                                                              \n",
       "2                                               44.37                                                              \n",
       "3                                                7.37                                                              \n",
       "4                                               55.97                                                              \n",
       "5                                               40.70                                                              \n",
       "6                                                4.49                                                              \n",
       "7                                               57.71                                                              \n",
       "8                                               50.00                                                              \n",
       "9                                               69.56                                                              \n",
       "10                                              33.51                                                              \n",
       "11                                              46.25                                                              \n",
       "12                                              46.05                                                              \n",
       "13                                              46.74                                                              \n",
       "14                                              12.96                                                              \n",
       "15                                              76.92                                                              \n",
       "16                                              48.60                                                              \n",
       "17                                              67.64                                                              \n",
       "18                                              68.43                                                              \n",
       "19                                              70.34                                                              \n",
       "20                                              72.18                                                              \n",
       "21                                              43.81                                                              \n",
       "22                                              55.03                                                              \n",
       "23                                              44.08                                                              \n",
       "24                                               6.09                                                              \n",
       "25                                              16.67                                                              \n",
       "26                                              37.08                                                              \n",
       "27                                              35.09                                                              \n",
       "28                                              38.42                                                              \n",
       "29                                              12.19                                                              \n",
       "30                                              47.43                                                              \n",
       "31                                              65.89                                                              \n",
       "32                                               9.57                                                              \n",
       "33                                              21.07                                                              \n",
       "34                                              49.83                                                              \n",
       "35                                              12.28                                                              \n",
       "36                                              49.79                                                              \n",
       "\n",
       "    Unnamed: 2  Unnamed: 3  Unnamed: 4  Unnamed: 5  \n",
       "0          NaN         NaN         NaN         NaN  \n",
       "1          NaN         NaN         NaN         NaN  \n",
       "2          NaN         NaN         NaN         NaN  \n",
       "3          NaN         NaN         NaN         NaN  \n",
       "4          NaN         NaN         NaN         NaN  \n",
       "5          NaN         NaN         NaN         NaN  \n",
       "6          NaN         NaN         NaN         NaN  \n",
       "7          NaN         NaN         NaN         NaN  \n",
       "8          NaN         NaN         NaN         NaN  \n",
       "9          NaN         NaN         NaN         NaN  \n",
       "10         NaN         NaN         NaN         NaN  \n",
       "11         NaN         NaN         NaN         NaN  \n",
       "12         NaN         NaN         NaN         NaN  \n",
       "13         NaN         NaN         NaN         NaN  \n",
       "14         NaN         NaN         NaN         NaN  \n",
       "15         NaN         NaN         NaN         NaN  \n",
       "16         NaN         NaN         NaN         NaN  \n",
       "17         NaN         NaN         NaN         NaN  \n",
       "18         NaN         NaN         NaN         NaN  \n",
       "19         NaN         NaN         NaN         NaN  \n",
       "20         NaN         NaN         NaN         NaN  \n",
       "21         NaN         NaN         NaN         NaN  \n",
       "22         NaN         NaN         NaN         NaN  \n",
       "23         NaN         NaN         NaN         NaN  \n",
       "24         NaN         NaN         NaN         NaN  \n",
       "25         NaN         NaN         NaN         NaN  \n",
       "26         NaN         NaN         NaN         NaN  \n",
       "27         NaN         NaN         NaN         NaN  \n",
       "28         NaN         NaN         NaN         NaN  \n",
       "29         NaN         NaN         NaN         NaN  \n",
       "30         NaN         NaN         NaN         NaN  \n",
       "31         NaN         NaN         NaN         NaN  \n",
       "32         NaN         NaN         NaN         NaN  \n",
       "33         NaN         NaN         NaN         NaN  \n",
       "34         NaN         NaN         NaN         NaN  \n",
       "35         NaN         NaN         NaN         NaN  \n",
       "36         NaN         NaN         NaN         NaN  "
      ]
     },
     "execution_count": 56,
     "metadata": {},
     "output_type": "execute_result"
    }
   ],
   "source": [
    "df1 = pd.read_csv(\"/Users/aksingh/Documents/CEDA Test Excel Sheet.csv\")\n",
    "df1"
   ]
  },
  {
   "cell_type": "code",
   "execution_count": 114,
   "id": "074ead5a",
   "metadata": {
    "scrolled": true
   },
   "outputs": [
    {
     "data": {
      "image/png": "[encoded data removed]",
      "text/plain": [
       "<Figure size 2500x1800 with 1 Axes>"
      ]
     },
     "metadata": {},
     "output_type": "display_data"
    }
   ],
   "source": [
    "df1.rename(columns = {\"Share of households that have no arrangement for disposing of garbage in each state of India (in Percentage)\" : \"Share of households\"}, inplace=True)\n",
    "df1.plot(kind = 'bar', figsize = (25,18), x = 'States', y = 'Share of households', title = 'Share of households that have no arrangement for disposing of garbage in each state of India' )\n",
    "plt.savefig(\"Graph CEDA Test.png\")"
   ]
  },
  {
   "cell_type": "code",
   "execution_count": null,
   "id": "b6c3dff5",
   "metadata": {
    "scrolled": true
   },
   "outputs": [],
   "source": []
  }
 ],
 "metadata": {
  "celltoolbar": "Raw Cell Format",
  "kernelspec": {
   "display_name": "Python 3 (ipykernel)",
   "language": "python",
   "name": "python3"
  },
  "language_info": {
   "codemirror_mode": {
    "name": "ipython",
    "version": 3
   },
   "file_extension": ".py",
   "mimetype": "text/x-python",
   "name": "python",
   "nbconvert_exporter": "python",
   "pygments_lexer": "ipython3",
   "version": "3.11.2"
  }
 },
 "nbformat": 4,
 "nbformat_minor": 5
}
